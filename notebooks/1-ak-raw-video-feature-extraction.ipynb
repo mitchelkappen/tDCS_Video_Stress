{
 "cells": [
  {
   "cell_type": "markdown",
   "metadata": {},
   "source": [
    "### Video Dataframe creation\n",
    "This notebook loads in the csv files that contain the information extracted by OpenFace from the videos. Each csv file is then loaded into a pandas dataFrame. To this dataframe we add columns containing information about the start (moment) of the TSST speech component. The dataframe is then stored in the `interim` folder as a `.hdf`, for use in the sampling and feature computation steps later on."
   ]
  },
  {
   "cell_type": "code",
   "execution_count": 1,
   "metadata": {},
   "outputs": [],
   "source": [
    "import os\n",
    "import csv\n",
    "import pandas as pd\n",
    "import numpy as np"
   ]
  },
  {
   "cell_type": "markdown",
   "metadata": {},
   "source": [
    "After loading in the required modules, we store the working directory in a variable called `project_dir`. We then store the folder where the data files are located in a variable called `data_dir`. We create a variable that contains the specific names of all the csv files, `raw_feature_files`. We also put the location in which the future created dataframes need to be saved in a variable called `processed_dir`. "
   ]
  },
  {
   "cell_type": "code",
   "execution_count": 2,
   "metadata": {},
   "outputs": [],
   "source": [
    "project_dir = os.getcwd().split('\\\\')[:-1]\n",
    "project_dir = '\\\\'.join(project_dir)\n",
    "data_dir = project_dir + '\\\\data'\n",
    "processed_dir = data_dir + '\\\\raw\\\\Video_features' \n",
    "raw_feature_files = [file for file in os.listdir(processed_dir) if file.endswith('csv')]"
   ]
  },
  {
   "cell_type": "markdown",
   "metadata": {},
   "source": [
    "We open the file `start_sentence.csv`, which contain the starting moments of the TSST speech component of each participant. We store this in a dict called `timings` where you can get the moment in the video of a certain participant (pp) where the TSST component starts in seconds (start) as follows:\n",
    "\n",
    "`start = timings['pp']`"
   ]
  },
  {
   "cell_type": "code",
   "execution_count": 3,
   "metadata": {},
   "outputs": [],
   "source": [
    "reader = csv.DictReader(open(project_dir + '\\\\data\\\\information\\\\start_sentence.csv', encoding='utf-8-sig'), delimiter=';')\n",
    "timings = {}\n",
    "for row in reader:\n",
    "    timings[int(row['pp'])] = int(row['start'])"
   ]
  },
  {
   "cell_type": "markdown",
   "metadata": {},
   "source": [
    "We then load in each csv file into a dataframe one by one. We add some information about the participant. Each line corresponds to a single frame in the video and contains the information about that frame extracted by OpenFace. We add to this dataframe a column called `started`, which is `1` if the participant already started the TSST speech component and `0` if nott. We also added information about the how many frames and seconds a specific frame (row) was from the frame in which the TSST speech component started, which can be found in the columns `t_from_start` (seconds) and `frames_away_start` (frames). Each dataframes is then saved in the interim folder as a `.hdf` file."
   ]
  },
  {
   "cell_type": "code",
   "execution_count": 4,
   "metadata": {},
   "outputs": [
    {
     "name": "stdout",
     "output_type": "stream",
     "text": [
      "pp2 done\n",
      "pp3 done\n",
      "pp4 done\n",
      "pp5 done\n",
      "pp10 done\n",
      "pp11 done\n",
      "pp12 done\n",
      "pp13 done\n",
      "pp14 done\n",
      "pp17 done\n",
      "pp18 done\n",
      "pp19 done\n",
      "pp62 done\n",
      "pp68 done\n",
      "pp69 done\n",
      "pp70 done\n",
      "pp71 done\n",
      "pp76 done\n",
      "pp77 done\n",
      "pp79 done\n",
      "pp82 done\n",
      "pp84 done\n",
      "pp86 done\n",
      "pp90 done\n",
      "pp91 done\n",
      "pp92 done\n",
      "pp93 done\n",
      "pp94 done\n",
      "pp95 done\n",
      "pp96 done\n",
      "pp97 done\n",
      "pp98 done\n",
      "pp99 done\n",
      "pp100 done\n",
      "All done!\n"
     ]
    }
   ],
   "source": [
    "for csv_file in raw_feature_files: # change this to get all processed files\n",
    "    new_data = pd.read_csv(processed_dir + '\\\\' + csv_file)\n",
    "    pp = int(csv_file[4:7])\n",
    "    new_data['pp'] = pp\n",
    "    new_data['started'] = 0\n",
    "    new_data.columns = [col.strip(' ') for col in new_data.columns]\n",
    "    \n",
    "    new_data.loc[(new_data.timestamp >= timings[pp]), 'started'] = 1\n",
    "    frame_at_start = new_data.loc[new_data.started==1, 'frame'].values[0]\n",
    "    new_data.loc[:, 'frames_away_start'] = new_data.loc[:, 'frame'] - frame_at_start ## Use this column together with the pp column to connect to physiological data\n",
    "    new_data['t_from_start'] = new_data['frames_away_start']/25\n",
    "    new_data.astype('float',copy=False)\n",
    "    \n",
    "    new_data.to_hdf(data_dir+ '\\\\interim\\\\video\\\\' + f'{pp}.hdf', f'pp{pp}', mode='w')\n",
    "    print(f'pp{pp} done')\n",
    "print('All done!')"
   ]
  },
  {
   "cell_type": "code",
   "execution_count": null,
   "metadata": {},
   "outputs": [],
   "source": []
  }
 ],
 "metadata": {
  "kernelspec": {
   "display_name": "Python 3",
   "language": "python",
   "name": "python3"
  },
  "language_info": {
   "codemirror_mode": {
    "name": "ipython",
    "version": 3
   },
   "file_extension": ".py",
   "mimetype": "text/x-python",
   "name": "python",
   "nbconvert_exporter": "python",
   "pygments_lexer": "ipython3",
   "version": "3.8.5"
  }
 },
 "nbformat": 4,
 "nbformat_minor": 4
}
