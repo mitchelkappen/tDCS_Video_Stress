{
 "cells": [
  {
   "cell_type": "markdown",
   "metadata": {},
   "source": [
    "## Processing of the windows\n",
    "This notebook focusses on the processing of the sampled windows, to prepare them to be used as training and test data in the modelling part."
   ]
  },
  {
   "cell_type": "code",
   "execution_count": 1,
   "metadata": {},
   "outputs": [],
   "source": [
    "import pandas as pd\n",
    "import numpy as np\n",
    "import os\n",
    "from scipy import stats"
   ]
  },
  {
   "cell_type": "code",
   "execution_count": 2,
   "metadata": {},
   "outputs": [],
   "source": [
    "project_dir = os.getcwd().split('\\\\')[:-1]\n",
    "project_dir = '\\\\'.join(project_dir)\n",
    "data_dir = project_dir + '\\\\data'\n",
    "processed_dir = data_dir + '\\\\processed'\n",
    "processed_files = os.listdir(processed_dir)\n",
    "processed_files = [file for file in processed_files if file.endswith('hdf') and not file.startswith('processed_')]"
   ]
  },
  {
   "cell_type": "markdown",
   "metadata": {},
   "source": [
    "#### Gender & Age + Outlier removal"
   ]
  },
  {
   "cell_type": "code",
   "execution_count": 4,
   "metadata": {},
   "outputs": [
    {
     "name": "stdout",
     "output_type": "stream",
     "text": [
      "In file window_120_step_108.hdf there is data from 60 participants\n",
      "In file window_120_step_120.hdf there is data from 60 participants\n",
      "In file window_120_step_84.hdf there is data from 60 participants\n",
      "In file window_180_step_125.hdf there is data from 60 participants\n",
      "In file window_180_step_162.hdf there is data from 60 participants\n",
      "In file window_180_step_180.hdf there is data from 60 participants\n"
     ]
    }
   ],
   "source": [
    "for file in processed_files:\n",
    "    window = pd.read_hdf(f'{processed_dir}\\\\{file}')\n",
    "    print(f'In file {file} there is data from {len(window.pp.unique())} participants')"
   ]
  },
  {
   "cell_type": "code",
   "execution_count": 3,
   "metadata": {},
   "outputs": [],
   "source": [
    "demogr = pd.read_csv(data_dir + '\\\\raw\\\\Demogr tDCS WM stress.csv', sep=',')\n",
    "\n",
    "#Handle the rows that did not separatly properly\n",
    "i = demogr[demogr.id.str.split(',').str.len()>2].index\n",
    "demogr.loc[i, 'geboortedatum_patient'] = demogr.loc[i, 'id'].str.split(',').str[1]\n",
    "demogr.loc[i, 'geslacht'] = demogr.loc[i, 'id'].str.split(',').str[2]\n",
    "demogr.loc[i, 'id'] = demogr.loc[i, 'id'].str.split(',').str[0]\n",
    "\n",
    "demogr = demogr[['id', 'geboortedatum_patient', 'geslacht']]\n",
    "demogr['geboortedatum_patient'] = pd.to_datetime(demogr['geboortedatum_patient'])\n",
    "now = pd.Timestamp('now')\n",
    "demogr['leeftijd'] = (now - demogr['geboortedatum_patient']).astype('<m8[Y]')"
   ]
  },
  {
   "cell_type": "code",
   "execution_count": 4,
   "metadata": {},
   "outputs": [],
   "source": [
    "def add_demographics(windows):\n",
    "    return windows.merge(demogr[['id', 'geslacht', 'leeftijd']], how='left', left_on='pp', right_on='id', validate='many_to_one')\n",
    "    \n",
    "# pd.read_hdf(processed_files[0])"
   ]
  },
  {
   "cell_type": "code",
   "execution_count": 5,
   "metadata": {},
   "outputs": [
    {
     "name": "stderr",
     "output_type": "stream",
     "text": [
      "D:\\Anaconda\\envs\\Video_Stress\\lib\\site-packages\\pandas\\core\\generic.py:2434: PerformanceWarning: \n",
      "your performance may suffer as PyTables will pickle object types that it cannot\n",
      "map directly to c-types [inferred_type->mixed,key->block2_values] [items->Index(['geslacht'], dtype='object')]\n",
      "\n",
      "  pytables.to_hdf(\n"
     ]
    }
   ],
   "source": [
    "targets = ['mean_SCL', 'corrected_mean_SCL', 'range_corrected_mean_SCL', 'standardised_mean_scl',\n",
    "           'frequency_NS_SCR', 'HRV_MeanNN', 'HRV_RMSSD', 'HRV_SDNN', 'HRV_MeanNN_corrected',\n",
    "           'HRV_RMSSD_corrected', 'HRV_SDNN_corrected']\n",
    "\n",
    "demogr.id = demogr.id.str.split(',').str[0].astype('int64')\n",
    "\n",
    "for file in processed_files:\n",
    "    window = pd.read_hdf(f'{processed_dir}\\\\{file}')\n",
    "    window.pp = window.pp.astype('int64')\n",
    "    df = add_demographics(window) # Adding the age and gender of each participants\n",
    "    df.to_hdf(f'{processed_dir}\\\\processed_{file}', key='data')"
   ]
  }
 ],
 "metadata": {
  "kernelspec": {
   "display_name": "Python 3",
   "language": "python",
   "name": "python3"
  },
  "language_info": {
   "codemirror_mode": {
    "name": "ipython",
    "version": 3
   },
   "file_extension": ".py",
   "mimetype": "text/x-python",
   "name": "python",
   "nbconvert_exporter": "python",
   "pygments_lexer": "ipython3",
   "version": "3.8.5"
  }
 },
 "nbformat": 4,
 "nbformat_minor": 4
}
