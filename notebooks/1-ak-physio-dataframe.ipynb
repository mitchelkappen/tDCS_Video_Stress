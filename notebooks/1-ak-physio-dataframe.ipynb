{
 "cells": [
  {
   "cell_type": "markdown",
   "metadata": {},
   "source": [
    "### Physiological Dataframe creation\n",
    "This notebook creates the physiological signal dataframes for each participant. This is done for both the BIOPAC as well as the AMSDATA files. To both columns we add information about the start (moment) of the TSST speech component. Each created dataframe is stored in the `interim` folder as a `.hdf` file, for us in the sampling and computation steps later on."
   ]
  },
  {
   "cell_type": "code",
   "execution_count": 1,
   "metadata": {},
   "outputs": [],
   "source": [
    "import os\n",
    "import bioread\n",
    "import pandas as pd\n",
    "import numpy as np\n",
    "import csv"
   ]
  },
  {
   "cell_type": "markdown",
   "metadata": {},
   "source": [
    "After loading in the required modules, we store the working directory in a variable called `project_dir`. We then store the folder where the data files are located in a variable called `data_dir`. We create a variable that contains the specific names of all the acq files, `acq_files`, as well as a variable for all the txt files (amsdata), `txt_files`."
   ]
  },
  {
   "cell_type": "code",
   "execution_count": 2,
   "metadata": {},
   "outputs": [],
   "source": [
    "project_dir = os.getcwd().split('\\\\')[:-1]\n",
    "project_dir = '\\\\'.join(project_dir)\n",
    "data_dir = project_dir + '\\\\data\\\\raw\\\\Physiological'\n",
    "acq_files = [file for file in os.listdir(data_dir) if file.endswith('acq')]\n",
    "txt_files = [file for file in os.listdir(data_dir) if file.endswith('SCL.txt')]"
   ]
  },
  {
   "cell_type": "markdown",
   "metadata": {},
   "source": [
    "The acq files are, one by one, loaded using the bioread function. The start moment is computed using the third channel (`digital_input`). We then select a subset both the raw EDA and raw ECG signal, from 3 minutes prior to the start of the TSST speech component and 20 minutes after this start. We compute the timestamps so that they reflect seconds instead of ms, and we then compute the new column `t_from_start` (seconds). This reflects how far each sample(row) is removed from the sample in which the TSST component started. Each dataframe is then saved in the interim folder as a `.hdf` file."
   ]
  },
  {
   "cell_type": "code",
   "execution_count": 3,
   "metadata": {},
   "outputs": [
    {
     "name": "stdout",
     "output_type": "stream",
     "text": [
      "pp100 done\n",
      "pp10 done\n",
      "pp11 done\n",
      "pp12 done\n",
      "pp13 done\n",
      "pp14 done\n",
      "pp17 done\n",
      "pp18 done\n",
      "pp19 done\n",
      "pp2 done\n",
      "pp3 done\n",
      "pp4 done\n",
      "pp5 done\n",
      "pp62 done\n",
      "pp68 done\n",
      "pp69 done\n",
      "pp70 done\n",
      "pp94 done\n",
      "pp99 done\n",
      "All done!\n"
     ]
    }
   ],
   "source": [
    "for file in acq_files:\n",
    "    \n",
    "    bio = bioread.read_file(data_dir + '\\\\' + file)\n",
    "    eda = bio.channels[0].data\n",
    "    ecg = bio.channels[1].data\n",
    "    timestamps = bio.channels[0].time_index\n",
    "\n",
    "    digital_input = np.copy(bio.channels[2].data)\n",
    "    starts = np.where(np.diff(digital_input>4))[0]\n",
    "    start = starts[4]\n",
    "    eda = eda[start-(2000*60*3):start+(2000*60*20)]\n",
    "    ecg = ecg[start-(2000*60*3):start+(2000*60*20)]\n",
    "    timestamps = timestamps[start-(2000*60*3):start+(2000*60*20)]\n",
    "    digital_input = digital_input[start-(2000*60*3):start+(2000*60*20)]\n",
    "    data = pd.DataFrame({'timestamp': timestamps,'raw_EDA': eda, 'raw_ECG': ecg, 'digital_input': digital_input})\n",
    "    data['t_from_start'] = data['timestamp'] - (start/bio.channels[0].samples_per_second)\n",
    "    data.astype('float',copy=False)\n",
    "    \n",
    "    pp = file[2:-6]\n",
    "    data.to_hdf(f'{project_dir}\\\\data\\\\interim\\\\physiological\\\\{pp}.hdf', f'pp{pp}', mode='w')\n",
    "    print(f'pp{pp} done')\n",
    "print('All done!')"
   ]
  },
  {
   "cell_type": "markdown",
   "metadata": {},
   "source": [
    "We open the file `start_TSST.csv`, which contain the starting moments of the TSST speech component of each participant, in the amsdata measurements. We store this in a dict called `timings` where you can get the moment in the video of a certain participant (pp) where the TSST component starts in seconds (start) as follows:\n",
    "\n",
    "`start = timings['pp']`\n"
   ]
  },
  {
   "cell_type": "code",
   "execution_count": 4,
   "metadata": {},
   "outputs": [],
   "source": [
    "reader = csv.DictReader(open(project_dir + '\\\\data\\\\information\\\\start_TSST.csv', encoding='utf-8-sig'), delimiter=';')\n",
    "timings = {}\n",
    "for row in reader:\n",
    "    timings[int(row['pp'])] = int(row['start'])"
   ]
  },
  {
   "cell_type": "markdown",
   "metadata": {},
   "source": [
    "Next up, we load in the txt files, that have been exported by the AMSDATA software. This txt file only contains the raw EDA signals. We add this raw signal to a dataframe, recompute the timestamps so it reflects seconds instead of minutes and then also compute the new column `t_from_start`. We once again take the subset of the data between 3 minutes prior to the start and 20 minutes after the start. This file is also stored in a `hdf` file in the interim folder. \n",
    "\n",
    "**NOTE:** The amsdata is sampled at 10Hz while the acq data is sampled at 2000Hz. This data should perhaps be resampled so they posses the same frequency. "
   ]
  },
  {
   "cell_type": "code",
   "execution_count": 5,
   "metadata": {},
   "outputs": [
    {
     "name": "stdout",
     "output_type": "stream",
     "text": [
      "pp71 done\n",
      "pp76 done\n",
      "pp77 done\n",
      "pp79 done\n",
      "pp82 done\n",
      "pp84 done\n",
      "pp86 done\n",
      "pp90 done\n",
      "pp91 done\n",
      "pp95 done\n",
      "pp96 done\n",
      "pp97 done\n",
      "pp98 done\n",
      "All done!\n"
     ]
    }
   ],
   "source": [
    "for file in txt_files:\n",
    "    pp = int(file[2:-10])\n",
    "    start = timings[pp]\n",
    "    start = start\n",
    "    data = pd.read_csv(f'{data_dir}\\\\{file}', sep=' ', skiprows=3, names=['timestamp', 'raw_EDA'])\n",
    "    data['timestamp'] = data['timestamp']/1000\n",
    "    data['t_from_start'] =  data['timestamp'] - start\n",
    "    data = data.loc[(data.t_from_start>-180) & (data.t_from_start<1200),:]\n",
    "    data.astype('float',copy=False)\n",
    "    \n",
    "    data.to_hdf(f'{project_dir}\\\\data\\\\interim\\\\physiological\\\\{pp}.hdf', f'pp{pp}', mode='w')\n",
    "    print(f'pp{pp} done')\n",
    "    \n",
    "print('All done!')"
   ]
  }
 ],
 "metadata": {
  "kernelspec": {
   "display_name": "Python 3",
   "language": "python",
   "name": "python3"
  },
  "language_info": {
   "codemirror_mode": {
    "name": "ipython",
    "version": 3
   },
   "file_extension": ".py",
   "mimetype": "text/x-python",
   "name": "python",
   "nbconvert_exporter": "python",
   "pygments_lexer": "ipython3",
   "version": "3.8.5"
  }
 },
 "nbformat": 4,
 "nbformat_minor": 4
}
