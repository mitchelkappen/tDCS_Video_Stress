{
 "cells": [
  {
   "cell_type": "code",
   "execution_count": 1,
   "metadata": {},
   "outputs": [],
   "source": [
    "import bioread\n",
    "import os\n",
    "import matplotlib.pyplot as plt\n",
    "import pandas as pd\n",
    "from datetime import datetime, timezone, timedelta\n",
    "from pprint import pprint\n",
    "from pymediainfo import MediaInfo"
   ]
  },
  {
   "cell_type": "code",
   "execution_count": 2,
   "metadata": {},
   "outputs": [],
   "source": [
    "project_dir = os.getcwd().split('\\\\')[:-1]\n",
    "project_dir = '\\\\'.join(project_dir)"
   ]
  },
  {
   "cell_type": "code",
   "execution_count": 3,
   "metadata": {},
   "outputs": [
    {
     "data": {
      "text/plain": [
       "'D:\\\\Documenten\\\\Artificial Intelligence Master\\\\Semester 3\\\\tDCS_Video_Stress'"
      ]
     },
     "execution_count": 3,
     "metadata": {},
     "output_type": "execute_result"
    }
   ],
   "source": [
    "project_dir"
   ]
  },
  {
   "cell_type": "code",
   "execution_count": 4,
   "metadata": {},
   "outputs": [],
   "source": [
    "video_dir = project_dir + \"\\\\data\\\\raw\\\\Video\\\\raw\"\n",
    "video_files = os.listdir(video_dir)"
   ]
  },
  {
   "cell_type": "code",
   "execution_count": 5,
   "metadata": {},
   "outputs": [],
   "source": [
    "df = pd.DataFrame()"
   ]
  },
  {
   "cell_type": "code",
   "execution_count": 6,
   "metadata": {},
   "outputs": [],
   "source": [
    "pps = [int(file[4:7]) for file in video_files]"
   ]
  },
  {
   "cell_type": "code",
   "execution_count": 7,
   "metadata": {},
   "outputs": [],
   "source": [
    "df['pp'] = pps"
   ]
  },
  {
   "cell_type": "code",
   "execution_count": 8,
   "metadata": {},
   "outputs": [],
   "source": [
    "recorded_dates = []\n",
    "durations = []\n",
    "for video_file in video_files:\n",
    "    _dir =video_dir +'\\\\'+ video_file\n",
    "    media_info = MediaInfo.parse(_dir)\n",
    "    recorded_dates.append(media_info.tracks[0].recorded_date)\n",
    "    durations.append(float(media_info.tracks[1].duration)/1000)"
   ]
  },
  {
   "cell_type": "code",
   "execution_count": 9,
   "metadata": {},
   "outputs": [],
   "source": [
    "df['video_start_time'] = [datetime.strptime(date[:-6], '%Y-%m-%d %H:%M:%S').replace(tzinfo=timezone(timedelta(hours=2))) for date in recorded_dates]\n",
    "df['video_duration'] = [timedelta(0,dur) for dur in durations]\n",
    "df['video_end_time'] = df.video_start_time + df.video_duration"
   ]
  },
  {
   "cell_type": "code",
   "execution_count": 10,
   "metadata": {},
   "outputs": [],
   "source": [
    "df['video_start_time'] = df['video_start_time'].dt.tz_convert('utc')\n",
    "df['video_end_time'] = df['video_end_time'].dt.tz_convert('utc')"
   ]
  },
  {
   "cell_type": "code",
   "execution_count": 11,
   "metadata": {},
   "outputs": [],
   "source": [
    "acq_files = [f'{project_dir}\\\\data\\\\raw\\\\Physiological\\\\raw\\\\Biopac\\\\pp{pp}s2.acq' for pp in pps]"
   ]
  },
  {
   "cell_type": "code",
   "execution_count": 12,
   "metadata": {
    "scrolled": true
   },
   "outputs": [],
   "source": [
    "start_time = []\n",
    "duration = []\n",
    "end_time = []\n",
    "for i in range(len(pps)):\n",
    "    acq = bioread.read_file(acq_files[i])\n",
    "    acq_start_time = acq.earliest_marker_created_at\n",
    "    start_time.append(acq_start_time)\n",
    "    acq_total_seconds = timedelta(0,len(acq.channels[0].raw_data)/acq.channels[0].samples_per_second)\n",
    "    duration.append(acq_total_seconds)\n",
    "    end_time.append(acq_start_time + acq_total_seconds)\n",
    "\n",
    "df['physio_start_time'] = start_time\n",
    "df['physio_duration'] = duration\n",
    "df['physio_end_time'] = end_time"
   ]
  },
  {
   "cell_type": "code",
   "execution_count": 13,
   "metadata": {},
   "outputs": [],
   "source": [
    "df['physio_video_start_diff'] = df['video_start_time'].dt.tz_convert('utc') - df['physio_start_time'].dt.tz_convert('utc')"
   ]
  },
  {
   "cell_type": "code",
   "execution_count": 14,
   "metadata": {},
   "outputs": [
    {
     "data": {
      "text/html": [
       "<div>\n",
       "<style scoped>\n",
       "    .dataframe tbody tr th:only-of-type {\n",
       "        vertical-align: middle;\n",
       "    }\n",
       "\n",
       "    .dataframe tbody tr th {\n",
       "        vertical-align: top;\n",
       "    }\n",
       "\n",
       "    .dataframe thead th {\n",
       "        text-align: right;\n",
       "    }\n",
       "</style>\n",
       "<table border=\"1\" class=\"dataframe\">\n",
       "  <thead>\n",
       "    <tr style=\"text-align: right;\">\n",
       "      <th></th>\n",
       "      <th>pp</th>\n",
       "      <th>video_start_time</th>\n",
       "      <th>video_duration</th>\n",
       "      <th>video_end_time</th>\n",
       "      <th>physio_start_time</th>\n",
       "      <th>physio_duration</th>\n",
       "      <th>physio_end_time</th>\n",
       "      <th>physio_video_start_diff</th>\n",
       "    </tr>\n",
       "  </thead>\n",
       "  <tbody>\n",
       "    <tr>\n",
       "      <th>0</th>\n",
       "      <td>2</td>\n",
       "      <td>2020-03-03 09:00:55+00:00</td>\n",
       "      <td>0 days 00:17:55.280000</td>\n",
       "      <td>2020-03-03 09:18:50.280000+00:00</td>\n",
       "      <td>2020-03-03 08:07:01.303000+00:00</td>\n",
       "      <td>0 days 01:29:12.305500</td>\n",
       "      <td>2020-03-03 09:36:13.608500+00:00</td>\n",
       "      <td>0 days 00:53:53.697000</td>\n",
       "    </tr>\n",
       "    <tr>\n",
       "      <th>1</th>\n",
       "      <td>3</td>\n",
       "      <td>2020-03-10 13:10:52+00:00</td>\n",
       "      <td>0 days 00:15:36.960000</td>\n",
       "      <td>2020-03-10 13:26:28.960000+00:00</td>\n",
       "      <td>2020-03-10 12:14:14.552000+00:00</td>\n",
       "      <td>0 days 01:32:48.979500</td>\n",
       "      <td>2020-03-10 13:47:03.531500+00:00</td>\n",
       "      <td>0 days 00:56:37.448000</td>\n",
       "    </tr>\n",
       "    <tr>\n",
       "      <th>2</th>\n",
       "      <td>4</td>\n",
       "      <td>2020-03-03 15:04:03+00:00</td>\n",
       "      <td>0 days 00:14:54.320000</td>\n",
       "      <td>2020-03-03 15:18:57.320000+00:00</td>\n",
       "      <td>2020-03-03 14:08:57.128000+00:00</td>\n",
       "      <td>0 days 01:29:14.838500</td>\n",
       "      <td>2020-03-03 15:38:11.966500+00:00</td>\n",
       "      <td>0 days 00:55:05.872000</td>\n",
       "    </tr>\n",
       "    <tr>\n",
       "      <th>3</th>\n",
       "      <td>5</td>\n",
       "      <td>2020-03-04 09:32:08+00:00</td>\n",
       "      <td>0 days 00:15:09.400000</td>\n",
       "      <td>2020-03-04 09:47:17.400000+00:00</td>\n",
       "      <td>2020-03-04 08:40:59.994000+00:00</td>\n",
       "      <td>0 days 01:25:50.768500</td>\n",
       "      <td>2020-03-04 10:06:50.762500+00:00</td>\n",
       "      <td>0 days 00:51:08.006000</td>\n",
       "    </tr>\n",
       "    <tr>\n",
       "      <th>4</th>\n",
       "      <td>10</td>\n",
       "      <td>2020-03-05 17:05:03+00:00</td>\n",
       "      <td>0 days 00:18:33.240000</td>\n",
       "      <td>2020-03-05 17:23:36.240000+00:00</td>\n",
       "      <td>2020-03-05 16:04:42.164000+00:00</td>\n",
       "      <td>0 days 01:40:15.584000</td>\n",
       "      <td>2020-03-05 17:44:57.748000+00:00</td>\n",
       "      <td>0 days 01:00:20.836000</td>\n",
       "    </tr>\n",
       "    <tr>\n",
       "      <th>5</th>\n",
       "      <td>11</td>\n",
       "      <td>2020-03-10 15:04:32+00:00</td>\n",
       "      <td>0 days 00:14:38.200000</td>\n",
       "      <td>2020-03-10 15:19:10.200000+00:00</td>\n",
       "      <td>2020-03-10 14:09:40.866000+00:00</td>\n",
       "      <td>0 days 01:35:31.103000</td>\n",
       "      <td>2020-03-10 15:45:11.969000+00:00</td>\n",
       "      <td>0 days 00:54:51.134000</td>\n",
       "    </tr>\n",
       "    <tr>\n",
       "      <th>6</th>\n",
       "      <td>12</td>\n",
       "      <td>2020-03-09 09:07:12+00:00</td>\n",
       "      <td>0 days 00:10:39</td>\n",
       "      <td>2020-03-09 09:17:51+00:00</td>\n",
       "      <td>2020-03-09 08:07:53.403000+00:00</td>\n",
       "      <td>0 days 01:30:48.062000</td>\n",
       "      <td>2020-03-09 09:38:41.465000+00:00</td>\n",
       "      <td>0 days 00:59:18.597000</td>\n",
       "    </tr>\n",
       "    <tr>\n",
       "      <th>7</th>\n",
       "      <td>13</td>\n",
       "      <td>2020-03-12 13:08:46+00:00</td>\n",
       "      <td>0 days 00:14:00.240000</td>\n",
       "      <td>2020-03-12 13:22:46.240000+00:00</td>\n",
       "      <td>2020-03-12 12:12:59.851000+00:00</td>\n",
       "      <td>0 days 01:32:51.425000</td>\n",
       "      <td>2020-03-12 13:45:51.276000+00:00</td>\n",
       "      <td>0 days 00:55:46.149000</td>\n",
       "    </tr>\n",
       "    <tr>\n",
       "      <th>8</th>\n",
       "      <td>14</td>\n",
       "      <td>2020-03-11 13:09:39+00:00</td>\n",
       "      <td>0 days 00:16:36.760000</td>\n",
       "      <td>2020-03-11 13:26:15.760000+00:00</td>\n",
       "      <td>2020-03-11 12:13:11.310000+00:00</td>\n",
       "      <td>0 days 01:34:39.119500</td>\n",
       "      <td>2020-03-11 13:47:50.429500+00:00</td>\n",
       "      <td>0 days 00:56:27.690000</td>\n",
       "    </tr>\n",
       "    <tr>\n",
       "      <th>9</th>\n",
       "      <td>17</td>\n",
       "      <td>2020-03-12 11:12:29+00:00</td>\n",
       "      <td>0 days 00:15:53.080000</td>\n",
       "      <td>2020-03-12 11:28:22.080000+00:00</td>\n",
       "      <td>2020-03-12 10:18:21.411000+00:00</td>\n",
       "      <td>0 days 01:28:56.884500</td>\n",
       "      <td>2020-03-12 11:47:18.295500+00:00</td>\n",
       "      <td>0 days 00:54:07.589000</td>\n",
       "    </tr>\n",
       "    <tr>\n",
       "      <th>10</th>\n",
       "      <td>18</td>\n",
       "      <td>2020-03-13 12:50:18+00:00</td>\n",
       "      <td>0 days 00:15:41.640000</td>\n",
       "      <td>2020-03-13 13:05:59.640000+00:00</td>\n",
       "      <td>2020-03-13 11:56:28.548000+00:00</td>\n",
       "      <td>0 days 01:27:26.192000</td>\n",
       "      <td>2020-03-13 13:23:54.740000+00:00</td>\n",
       "      <td>0 days 00:53:49.452000</td>\n",
       "    </tr>\n",
       "    <tr>\n",
       "      <th>11</th>\n",
       "      <td>19</td>\n",
       "      <td>2020-03-13 14:49:06+00:00</td>\n",
       "      <td>0 days 00:15:40.600000</td>\n",
       "      <td>2020-03-13 15:04:46.600000+00:00</td>\n",
       "      <td>2020-03-13 13:51:36.155000+00:00</td>\n",
       "      <td>0 days 01:34:55.479000</td>\n",
       "      <td>2020-03-13 15:26:31.634000+00:00</td>\n",
       "      <td>0 days 00:57:29.845000</td>\n",
       "    </tr>\n",
       "    <tr>\n",
       "      <th>12</th>\n",
       "      <td>62</td>\n",
       "      <td>2020-10-01 09:59:03+00:00</td>\n",
       "      <td>0 days 00:22:51.160000</td>\n",
       "      <td>2020-10-01 10:21:54.160000+00:00</td>\n",
       "      <td>2020-10-01 09:01:49.190000+00:00</td>\n",
       "      <td>0 days 01:40:35.062000</td>\n",
       "      <td>2020-10-01 10:42:24.252000+00:00</td>\n",
       "      <td>0 days 00:57:13.810000</td>\n",
       "    </tr>\n",
       "    <tr>\n",
       "      <th>13</th>\n",
       "      <td>68</td>\n",
       "      <td>2020-10-06 14:02:23+00:00</td>\n",
       "      <td>0 days 00:17:54.760000</td>\n",
       "      <td>2020-10-06 14:20:17.760000+00:00</td>\n",
       "      <td>2020-10-06 13:01:32.387000+00:00</td>\n",
       "      <td>0 days 01:35:50.102500</td>\n",
       "      <td>2020-10-06 14:37:22.489500+00:00</td>\n",
       "      <td>0 days 01:00:50.613000</td>\n",
       "    </tr>\n",
       "    <tr>\n",
       "      <th>14</th>\n",
       "      <td>69</td>\n",
       "      <td>2020-10-07 07:59:55+00:00</td>\n",
       "      <td>0 days 00:18:25.440000</td>\n",
       "      <td>2020-10-07 08:18:20.440000+00:00</td>\n",
       "      <td>2020-10-07 07:01:14.601000+00:00</td>\n",
       "      <td>0 days 01:34:33.008000</td>\n",
       "      <td>2020-10-07 08:35:47.609000+00:00</td>\n",
       "      <td>0 days 00:58:40.399000</td>\n",
       "    </tr>\n",
       "    <tr>\n",
       "      <th>15</th>\n",
       "      <td>70</td>\n",
       "      <td>2020-10-07 11:59:32+00:00</td>\n",
       "      <td>0 days 00:16:46.640000</td>\n",
       "      <td>2020-10-07 12:16:18.640000+00:00</td>\n",
       "      <td>2020-10-07 10:58:45.854000+00:00</td>\n",
       "      <td>0 days 01:33:16.229000</td>\n",
       "      <td>2020-10-07 12:32:02.083000+00:00</td>\n",
       "      <td>0 days 01:00:46.146000</td>\n",
       "    </tr>\n",
       "  </tbody>\n",
       "</table>\n",
       "</div>"
      ],
      "text/plain": [
       "    pp          video_start_time         video_duration  \\\n",
       "0    2 2020-03-03 09:00:55+00:00 0 days 00:17:55.280000   \n",
       "1    3 2020-03-10 13:10:52+00:00 0 days 00:15:36.960000   \n",
       "2    4 2020-03-03 15:04:03+00:00 0 days 00:14:54.320000   \n",
       "3    5 2020-03-04 09:32:08+00:00 0 days 00:15:09.400000   \n",
       "4   10 2020-03-05 17:05:03+00:00 0 days 00:18:33.240000   \n",
       "5   11 2020-03-10 15:04:32+00:00 0 days 00:14:38.200000   \n",
       "6   12 2020-03-09 09:07:12+00:00        0 days 00:10:39   \n",
       "7   13 2020-03-12 13:08:46+00:00 0 days 00:14:00.240000   \n",
       "8   14 2020-03-11 13:09:39+00:00 0 days 00:16:36.760000   \n",
       "9   17 2020-03-12 11:12:29+00:00 0 days 00:15:53.080000   \n",
       "10  18 2020-03-13 12:50:18+00:00 0 days 00:15:41.640000   \n",
       "11  19 2020-03-13 14:49:06+00:00 0 days 00:15:40.600000   \n",
       "12  62 2020-10-01 09:59:03+00:00 0 days 00:22:51.160000   \n",
       "13  68 2020-10-06 14:02:23+00:00 0 days 00:17:54.760000   \n",
       "14  69 2020-10-07 07:59:55+00:00 0 days 00:18:25.440000   \n",
       "15  70 2020-10-07 11:59:32+00:00 0 days 00:16:46.640000   \n",
       "\n",
       "                     video_end_time                physio_start_time  \\\n",
       "0  2020-03-03 09:18:50.280000+00:00 2020-03-03 08:07:01.303000+00:00   \n",
       "1  2020-03-10 13:26:28.960000+00:00 2020-03-10 12:14:14.552000+00:00   \n",
       "2  2020-03-03 15:18:57.320000+00:00 2020-03-03 14:08:57.128000+00:00   \n",
       "3  2020-03-04 09:47:17.400000+00:00 2020-03-04 08:40:59.994000+00:00   \n",
       "4  2020-03-05 17:23:36.240000+00:00 2020-03-05 16:04:42.164000+00:00   \n",
       "5  2020-03-10 15:19:10.200000+00:00 2020-03-10 14:09:40.866000+00:00   \n",
       "6         2020-03-09 09:17:51+00:00 2020-03-09 08:07:53.403000+00:00   \n",
       "7  2020-03-12 13:22:46.240000+00:00 2020-03-12 12:12:59.851000+00:00   \n",
       "8  2020-03-11 13:26:15.760000+00:00 2020-03-11 12:13:11.310000+00:00   \n",
       "9  2020-03-12 11:28:22.080000+00:00 2020-03-12 10:18:21.411000+00:00   \n",
       "10 2020-03-13 13:05:59.640000+00:00 2020-03-13 11:56:28.548000+00:00   \n",
       "11 2020-03-13 15:04:46.600000+00:00 2020-03-13 13:51:36.155000+00:00   \n",
       "12 2020-10-01 10:21:54.160000+00:00 2020-10-01 09:01:49.190000+00:00   \n",
       "13 2020-10-06 14:20:17.760000+00:00 2020-10-06 13:01:32.387000+00:00   \n",
       "14 2020-10-07 08:18:20.440000+00:00 2020-10-07 07:01:14.601000+00:00   \n",
       "15 2020-10-07 12:16:18.640000+00:00 2020-10-07 10:58:45.854000+00:00   \n",
       "\n",
       "          physio_duration                  physio_end_time  \\\n",
       "0  0 days 01:29:12.305500 2020-03-03 09:36:13.608500+00:00   \n",
       "1  0 days 01:32:48.979500 2020-03-10 13:47:03.531500+00:00   \n",
       "2  0 days 01:29:14.838500 2020-03-03 15:38:11.966500+00:00   \n",
       "3  0 days 01:25:50.768500 2020-03-04 10:06:50.762500+00:00   \n",
       "4  0 days 01:40:15.584000 2020-03-05 17:44:57.748000+00:00   \n",
       "5  0 days 01:35:31.103000 2020-03-10 15:45:11.969000+00:00   \n",
       "6  0 days 01:30:48.062000 2020-03-09 09:38:41.465000+00:00   \n",
       "7  0 days 01:32:51.425000 2020-03-12 13:45:51.276000+00:00   \n",
       "8  0 days 01:34:39.119500 2020-03-11 13:47:50.429500+00:00   \n",
       "9  0 days 01:28:56.884500 2020-03-12 11:47:18.295500+00:00   \n",
       "10 0 days 01:27:26.192000 2020-03-13 13:23:54.740000+00:00   \n",
       "11 0 days 01:34:55.479000 2020-03-13 15:26:31.634000+00:00   \n",
       "12 0 days 01:40:35.062000 2020-10-01 10:42:24.252000+00:00   \n",
       "13 0 days 01:35:50.102500 2020-10-06 14:37:22.489500+00:00   \n",
       "14 0 days 01:34:33.008000 2020-10-07 08:35:47.609000+00:00   \n",
       "15 0 days 01:33:16.229000 2020-10-07 12:32:02.083000+00:00   \n",
       "\n",
       "   physio_video_start_diff  \n",
       "0   0 days 00:53:53.697000  \n",
       "1   0 days 00:56:37.448000  \n",
       "2   0 days 00:55:05.872000  \n",
       "3   0 days 00:51:08.006000  \n",
       "4   0 days 01:00:20.836000  \n",
       "5   0 days 00:54:51.134000  \n",
       "6   0 days 00:59:18.597000  \n",
       "7   0 days 00:55:46.149000  \n",
       "8   0 days 00:56:27.690000  \n",
       "9   0 days 00:54:07.589000  \n",
       "10  0 days 00:53:49.452000  \n",
       "11  0 days 00:57:29.845000  \n",
       "12  0 days 00:57:13.810000  \n",
       "13  0 days 01:00:50.613000  \n",
       "14  0 days 00:58:40.399000  \n",
       "15  0 days 01:00:46.146000  "
      ]
     },
     "execution_count": 14,
     "metadata": {},
     "output_type": "execute_result"
    }
   ],
   "source": [
    "df"
   ]
  },
  {
   "cell_type": "code",
   "execution_count": 15,
   "metadata": {},
   "outputs": [],
   "source": [
    "timing_files = [f'{project_dir}\\\\data\\\\raw\\\\Timing stress session\\\\timing2_pp{pp}.xlsx' for pp in pps]"
   ]
  },
  {
   "cell_type": "code",
   "execution_count": 16,
   "metadata": {},
   "outputs": [],
   "source": [
    "col_names = list(pd.read_excel(timing_files[1]).task +'_' + pd.read_excel(timing_files[1]).timepoint)"
   ]
  },
  {
   "cell_type": "code",
   "execution_count": 17,
   "metadata": {},
   "outputs": [],
   "source": [
    "timing_values = []\n",
    "for i in range(len(timing_files)):\n",
    "    timing_values.append(pd.read_excel(timing_files[i]).time.values)"
   ]
  },
  {
   "cell_type": "code",
   "execution_count": 18,
   "metadata": {},
   "outputs": [],
   "source": [
    "new_df = pd.DataFrame(timing_values)\n",
    "new_df.columns = col_names\n",
    "new_df = new_df*60"
   ]
  },
  {
   "cell_type": "code",
   "execution_count": 20,
   "metadata": {},
   "outputs": [],
   "source": [
    "df = pd.concat([df, new_df], axis=1)"
   ]
  }
 ],
 "metadata": {
  "kernelspec": {
   "display_name": "Python 3",
   "language": "python",
   "name": "python3"
  },
  "language_info": {
   "codemirror_mode": {
    "name": "ipython",
    "version": 3
   },
   "file_extension": ".py",
   "mimetype": "text/x-python",
   "name": "python",
   "nbconvert_exporter": "python",
   "pygments_lexer": "ipython3",
   "version": "3.8.5"
  }
 },
 "nbformat": 4,
 "nbformat_minor": 4
}
